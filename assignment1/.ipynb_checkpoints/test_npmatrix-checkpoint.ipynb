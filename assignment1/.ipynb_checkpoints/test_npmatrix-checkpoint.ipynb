{
 "cells": [
  {
   "cell_type": "code",
   "execution_count": 1,
   "metadata": {},
   "outputs": [
    {
     "name": "stdout",
     "output_type": "stream",
     "text": [
      "X_train = \n",
      " [[3.42723581 4.28145531 1.34826551]\n",
      " [4.83402969 2.20173827 4.10641209]\n",
      " [1.4461254  3.85113854 2.19598531]\n",
      " [2.64804208 0.98522684 1.66477972]\n",
      " [1.83061501 3.23561419 4.08625921]\n",
      " [1.55340482 3.74818329 1.56089671]\n",
      " [3.42186754 1.72870963 0.17566093]\n",
      " [4.9951474  4.07212839 1.55421404]\n",
      " [1.13899565 4.53067358 4.90039702]\n",
      " [0.11728053 3.67265122 2.46920211]]\n",
      "Y_train = \n",
      " [3 2 1 2 2 1 3 0 0 2]\n",
      "X_test = \n",
      " [[2.56887411 2.07046875 1.98129297]\n",
      " [3.3186228  1.67033796 1.91558867]\n",
      " [2.88549309 2.89036615 1.93726842]]\n",
      "Y_test = \n",
      " [2 1 1]\n"
     ]
    }
   ],
   "source": [
    "# Testing L2 distance between points in training set and testing set\n",
    "# Initialization \n",
    "import numpy as np\n",
    "import random\n",
    "num_train = 10\n",
    "num_test = 3\n",
    "num_dim = 3\n",
    "num_type = 5\n",
    "# np.random.seed(1234) # use pseudo random with a fixed seed\n",
    "X_train = np.random.uniform(low=0, high=5, size=(num_train, num_dim)) # each row is one point in training set\n",
    "Y_train = np.random.randint(num_type, size=(num_train,))\n",
    "X_test = np.random.uniform(low=0, high=5, size=(num_test,num_dim)) # each row is one point in testing set\n",
    "Y_test = np.random.randint(num_type, size=(num_test,))\n",
    "\n",
    "# for testing\n",
    "print(\"X_train = \\n\", X_train)\n",
    "print(\"Y_train = \\n\", Y_train)\n",
    "print(\"X_test = \\n\", X_test)\n",
    "print(\"Y_test = \\n\", Y_test)\n",
    "# print(X_train.shape[0])\n",
    "# print(X_test.shape[0])\n",
    "# print(np.sum(np.square(X_train[0,:] - X_test[0,:])))\n",
    "# print(np.sum(np.square(X_train[1,:] - X_test[1,:])))\n",
    "\n"
   ]
  },
  {
   "cell_type": "code",
   "execution_count": 11,
   "metadata": {},
   "outputs": [
    {
     "name": "stdout",
     "output_type": "stream",
     "text": [
      "[[1.17459453e+01 1.83308596e+01 1.81781987e+00]\n",
      " [2.33678430e+01 4.84765139e+00 1.68626202e+01]\n",
      " [2.09127868e+00 1.48312680e+01 4.82235147e+00]\n",
      " [7.01212688e+00 9.70671921e-01 2.77149150e+00]\n",
      " [3.35115132e+00 1.04691992e+01 1.66975143e+01]\n",
      " [2.41306654e+00 1.40488780e+01 2.43639853e+00]\n",
      " [1.17091775e+01 2.98843700e+00 3.08567623e-02]\n",
      " [2.49514975e+01 1.65822296e+01 2.41558129e+00]\n",
      " [1.29731109e+00 2.05270031e+01 2.40138909e+01]\n",
      " [1.37547218e-02 1.34883670e+01 6.09695908e+00]]\n",
      "[8.2612655  6.48319358 5.45467759]\n"
     ]
    }
   ],
   "source": [
    "## Test fundamental matrix operations\n",
    "print(X_train * X_train) # matrix multiplied by itself is actually the square of each value \n",
    "X_train[0,:] += X_train[1,:] # add a row by some other row\n",
    "print(X_train[0,:])\n"
   ]
  },
  {
   "cell_type": "code",
   "execution_count": 2,
   "metadata": {},
   "outputs": [
    {
     "name": "stdout",
     "output_type": "stream",
     "text": [
      "[[2.45478515 3.10874456 2.11599677 1.1332247  2.51663928 2.00565125\n",
      "  2.02600695 3.17424633 4.07655843 2.96906637]\n",
      " [2.67424497 2.71634895 2.88803738 0.99093939 3.06203649 2.74940759\n",
      "  1.74396538 2.95125797 4.67347572 3.81632527]\n",
      " [1.60484848 2.99602862 1.74979923 1.93912064 2.41870325 1.62848551\n",
      "  2.17724696 2.4482512  3.81064206 2.925393  ]]\n"
     ]
    }
   ],
   "source": [
    "## Testing two-loop L2 distance\n",
    "dist = np.zeros((num_test, num_train))\n",
    "for i in range(num_test):\n",
    "    for j in range(num_train):\n",
    "        dist[i,j] = np.sqrt(np.sum(np.square(X_test[i,:] - X_train[j,:])))\n",
    "print(dist)"
   ]
  },
  {
   "cell_type": "code",
   "execution_count": 3,
   "metadata": {},
   "outputs": [
    {
     "name": "stdout",
     "output_type": "stream",
     "text": [
      "[[2.45478515 3.10874456 2.11599677 1.1332247  2.51663928 2.00565125\n",
      "  2.02600695 3.17424633 4.07655843 2.96906637]\n",
      " [2.67424497 2.71634895 2.88803738 0.99093939 3.06203649 2.74940759\n",
      "  1.74396538 2.95125797 4.67347572 3.81632527]\n",
      " [1.60484848 2.99602862 1.74979923 1.93912064 2.41870325 1.62848551\n",
      "  2.17724696 2.4482512  3.81064206 2.925393  ]]\n"
     ]
    }
   ],
   "source": [
    "## Testing one-loop L2 distance\n",
    "for i in range(num_test):\n",
    "    dist[i,:] = np.sqrt(np.sum(np.square(X_train - X_test[i,:]), axis=1))\n",
    "print(dist)"
   ]
  },
  {
   "cell_type": "code",
   "execution_count": 4,
   "metadata": {},
   "outputs": [
    {
     "name": "stdout",
     "output_type": "stream",
     "text": [
      "[[2.45478515 3.10874456 2.11599677 1.1332247  2.51663928 2.00565125\n",
      "  2.02600695 3.17424633 4.07655843 2.96906637]\n",
      " [2.67424497 2.71634895 2.88803738 0.99093939 3.06203649 2.74940759\n",
      "  1.74396538 2.95125797 4.67347572 3.81632527]\n",
      " [1.60484848 2.99602862 1.74979923 1.93912064 2.41870325 1.62848551\n",
      "  2.17724696 2.4482512  3.81064206 2.925393  ]]\n"
     ]
    }
   ],
   "source": [
    "## Testing no-loop L2 distance: using equation (a-b)^2 = a^2 + b^2 - 2ab\n",
    "test_sum = np.sum(np.square(X_test), axis=1) # sum of squares\n",
    "test_sum = np.reshape(test_sum, (num_test, 1)) # reshape the row vector as a one-column matrix\n",
    "test_sqmat = np.tile(test_sum, (1, num_train)) # repeat column for `num_train` times to create matrix [a^2]\n",
    "\n",
    "train_sum = np.sum(np.square(X_train), axis=1) # similar for training set\n",
    "train_sum = np.reshape(train_sum, (1, num_train))\n",
    "train_sqmat = np.tile(train_sum, (num_test, 1)) # create matrix [b^2]\n",
    "\n",
    "dist = np.sqrt(test_sqmat + train_sqmat - 2 * X_test.dot(X_train.transpose()))\n",
    "\n",
    "print(dist)\n",
    "\n",
    "# print( - 2 * X_test * X_train.transpose())\n",
    "\n",
    "# print(stest)\n",
    "# stest = np.repeat(stest, 2)\n",
    "\n",
    "# print(stest)\n",
    "# print(stest.transpose())\n"
   ]
  },
  {
   "cell_type": "code",
   "execution_count": 5,
   "metadata": {},
   "outputs": [
    {
     "name": "stdout",
     "output_type": "stream",
     "text": [
      "[0, 1, 2, 3, 4, 5, 6, 7, 8, 9]\n"
     ]
    }
   ],
   "source": [
    "# convert a range() to a vector\n",
    "print(list(range(num_train)))"
   ]
  },
  {
   "cell_type": "code",
   "execution_count": 6,
   "metadata": {},
   "outputs": [
    {
     "name": "stdout",
     "output_type": "stream",
     "text": [
      "[ 1  2  3 10]\n",
      "[1 2 1 1]\n",
      "[0 1 2 1 0 0 0 0 0 0 1]\n",
      "2\n",
      "[2 1 3 1]\n",
      "1\n",
      "[2 3 3 2]\n",
      "2\n",
      "[3 1 1 2]\n",
      "1\n"
     ]
    }
   ],
   "source": [
    "## Count occurance number of each value in a list/array.\n",
    "a = np.array([1,2,3,2,10])\n",
    "\n",
    "# Method 1: count occurances directly.\n",
    "# unique are values, counts are occurances/frequences\n",
    "(unique,counts) = np.unique(a, return_counts=True)\n",
    "print(unique)\n",
    "print(counts)\n",
    "\n",
    "# Method 2: count number of values in each bin with size 1.\n",
    "# Bins start from 0 and ends in maximum value + 1.\n",
    "# For instance, all 3s are in the 3th bin.\n",
    "# Cleary, np.bincount can only be used to count occurances of POSITIVE values.\n",
    "counts = np.bincount(a)\n",
    "print(counts)\n",
    "most_frequent = np.argmax(counts) # index of most frequent value is also the value itself \n",
    "print(most_frequent)\n",
    "\n",
    "# Test in kNN\n",
    "k = 4\n",
    "for i in range(num_test):\n",
    "    closest_y = Y_train[np.argsort(dist[i,:])[0:k]] # labels of the closest k neighbors\n",
    "    print(closest_y)\n",
    "    counts = np.bincount(closest_y) # count number of occurance in bins (smallest to largest), each with size 1\n",
    "    print(np.argmax(counts)) # return max occurance (if multiple max, then return the first one)\n",
    "    "
   ]
  },
  {
   "cell_type": "code",
   "execution_count": 7,
   "metadata": {},
   "outputs": [
    {
     "name": "stdout",
     "output_type": "stream",
     "text": [
      "[array([[3.42723581, 4.28145531, 1.34826551],\n",
      "       [4.83402969, 2.20173827, 4.10641209]]), array([[1.4461254 , 3.85113854, 2.19598531],\n",
      "       [2.64804208, 0.98522684, 1.66477972]]), array([[1.83061501, 3.23561419, 4.08625921],\n",
      "       [1.55340482, 3.74818329, 1.56089671]]), array([[3.42186754, 1.72870963, 0.17566093],\n",
      "       [4.9951474 , 4.07212839, 1.55421404]]), array([[1.13899565, 4.53067358, 4.90039702],\n",
      "       [0.11728053, 3.67265122, 2.46920211]])]\n",
      "[array([3, 2]), array([1, 2]), array([2, 1]), array([3, 0]), array([0, 2])]\n"
     ]
    }
   ],
   "source": [
    "## Array split\n",
    "num_folds = 5\n",
    "X_train_folds = np.array_split(X_train, num_folds) # split array by rows\n",
    "Y_train_folds = np.array_split(Y_train, num_folds) \n",
    "\n",
    "print(X_train_folds)\n",
    "print(Y_train_folds)\n",
    "    "
   ]
  },
  {
   "cell_type": "code",
   "execution_count": 8,
   "metadata": {},
   "outputs": [],
   "source": [
    "## Delete some rows/columns in an array\n",
    "num_folds = 5\n",
    "fold_len = int(X_train.shape[0] / num_folds) # convert to int\n",
    "for i in range(num_folds):\n",
    "    # `np.s_[a:b]` sets indices from a to b in `np.delete()`. It equals to `slice(a, b)`\n",
    "    # Note that a simple `[a:b]` doesn't work here.\n",
    "    X_train_new = np.delete(X_train, np.s_[(i*fold_len):((i+1)*fold_len)], axis=0)\n",
    "    Y_train_new = np.delete(Y_train, np.s_[(i*fold_len):((i+1)*fold_len)], axis=0)\n",
    "#     print(X_train_new)\n",
    "#     print(X_train_folds[i])\n",
    "#     print(Y_train_new)\n",
    "#     print(Y_train_folds[i])\n",
    "#     print(\"-----------\")\n"
   ]
  },
  {
   "cell_type": "code",
   "execution_count": 9,
   "metadata": {},
   "outputs": [
    {
     "name": "stdout",
     "output_type": "stream",
     "text": [
      "[0, 1, 2, 3, 4]\n",
      "[0, 1, 2, 3, 4]\n",
      "[0, 1, 2, 3, 4]\n",
      "[0, 1, 2, 3, 4]\n",
      "[0, 1, 2, 3, 4]\n",
      "[0, 1, 2, 3, 4]\n",
      "[0, 1, 2, 3, 4]\n",
      "[0, 1, 2, 3, 4]\n",
      "[0, 1, 2, 3, 4]\n",
      "[0, 1, 2, 3, 4]\n"
     ]
    }
   ],
   "source": [
    "## Test dictionary\n",
    "k_choices = [1, 3, 5, 8, 10, 12, 15, 20, 50, 100]\n",
    "k_to_accuracies = {}\n",
    "for k in k_choices:\n",
    "    accuracy = []\n",
    "    for i in range(num_folds):\n",
    "        accuracy.append(i) # add integer into a list\n",
    "    k_to_accuracies[k] = accuracy # mapping int to a list\n",
    "    print(k_to_accuracies[k])\n",
    "    \n"
   ]
  },
  {
   "cell_type": "code",
   "execution_count": null,
   "metadata": {},
   "outputs": [],
   "source": []
  }
 ],
 "metadata": {
  "kernelspec": {
   "display_name": "Python 3",
   "language": "python",
   "name": "python3"
  },
  "language_info": {
   "codemirror_mode": {
    "name": "ipython",
    "version": 3
   },
   "file_extension": ".py",
   "mimetype": "text/x-python",
   "name": "python",
   "nbconvert_exporter": "python",
   "pygments_lexer": "ipython3",
   "version": "3.7.1"
  }
 },
 "nbformat": 4,
 "nbformat_minor": 2
}
