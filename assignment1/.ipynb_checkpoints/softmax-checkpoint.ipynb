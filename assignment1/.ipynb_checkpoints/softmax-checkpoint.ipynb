{
 "cells": [
  {
   "cell_type": "markdown",
   "metadata": {},
   "source": [
    "# Softmax exercise\n",
    "\n",
    "*Complete and hand in this completed worksheet (including its outputs and any supporting code outside of the worksheet) with your assignment submission. For more details see the [assignments page](http://vision.stanford.edu/teaching/cs231n/assignments.html) on the course website.*\n",
    "\n",
    "This exercise is analogous to the SVM exercise. You will:\n",
    "\n",
    "- implement a fully-vectorized **loss function** for the Softmax classifier\n",
    "- implement the fully-vectorized expression for its **analytic gradient**\n",
    "- **check your implementation** with numerical gradient\n",
    "- use a validation set to **tune the learning rate and regularization** strength\n",
    "- **optimize** the loss function with **SGD**\n",
    "- **visualize** the final learned weights\n"
   ]
  },
  {
   "cell_type": "code",
   "execution_count": 1,
   "metadata": {},
   "outputs": [],
   "source": [
    "from __future__ import print_function\n",
    "\n",
    "import random\n",
    "import numpy as np\n",
    "from cs231n.data_utils import load_CIFAR10\n",
    "import matplotlib.pyplot as plt\n",
    "\n",
    "\n",
    "%matplotlib inline\n",
    "plt.rcParams['figure.figsize'] = (10.0, 8.0) # set default size of plots\n",
    "plt.rcParams['image.interpolation'] = 'nearest'\n",
    "plt.rcParams['image.cmap'] = 'gray'\n",
    "\n",
    "# for auto-reloading extenrnal modules\n",
    "# see http://stackoverflow.com/questions/1907993/autoreload-of-modules-in-ipython\n",
    "%load_ext autoreload\n",
    "%autoreload 2"
   ]
  },
  {
   "cell_type": "code",
   "execution_count": 2,
   "metadata": {},
   "outputs": [
    {
     "name": "stdout",
     "output_type": "stream",
     "text": [
      "Train data shape:  (49000, 3073)\n",
      "Train labels shape:  (49000,)\n",
      "Validation data shape:  (1000, 3073)\n",
      "Validation labels shape:  (1000,)\n",
      "Test data shape:  (1000, 3073)\n",
      "Test labels shape:  (1000,)\n",
      "dev data shape:  (500, 3073)\n",
      "dev labels shape:  (500,)\n"
     ]
    }
   ],
   "source": [
    "def get_CIFAR10_data(num_training=49000, num_validation=1000, num_test=1000, num_dev=500):\n",
    "    \"\"\"\n",
    "    Load the CIFAR-10 dataset from disk and perform preprocessing to prepare\n",
    "    it for the linear classifier. These are the same steps as we used for the\n",
    "    SVM, but condensed to a single function.  \n",
    "    \"\"\"\n",
    "    # Load the raw CIFAR-10 data\n",
    "    cifar10_dir = 'cs231n/datasets/cifar-10-batches-py'\n",
    "    \n",
    "    X_train, y_train, X_test, y_test = load_CIFAR10(cifar10_dir)\n",
    "    \n",
    "    # subsample the data\n",
    "    mask = list(range(num_training, num_training + num_validation))\n",
    "    X_val = X_train[mask]\n",
    "    y_val = y_train[mask]\n",
    "    mask = list(range(num_training))\n",
    "    X_train = X_train[mask]\n",
    "    y_train = y_train[mask]\n",
    "    mask = list(range(num_test))\n",
    "    X_test = X_test[mask]\n",
    "    y_test = y_test[mask]\n",
    "    mask = np.random.choice(num_training, num_dev, replace=False)\n",
    "    X_dev = X_train[mask]\n",
    "    y_dev = y_train[mask]\n",
    "    \n",
    "    # Preprocessing: reshape the image data into rows\n",
    "    X_train = np.reshape(X_train, (X_train.shape[0], -1))\n",
    "    X_val = np.reshape(X_val, (X_val.shape[0], -1))\n",
    "    X_test = np.reshape(X_test, (X_test.shape[0], -1))\n",
    "    X_dev = np.reshape(X_dev, (X_dev.shape[0], -1))\n",
    "    \n",
    "    # Normalize the data: subtract the mean image\n",
    "    mean_image = np.mean(X_train, axis = 0)\n",
    "    X_train -= mean_image\n",
    "    X_val -= mean_image\n",
    "    X_test -= mean_image\n",
    "    X_dev -= mean_image\n",
    "    \n",
    "    # add bias dimension and transform into columns\n",
    "    X_train = np.hstack([X_train, np.ones((X_train.shape[0], 1))])\n",
    "    X_val = np.hstack([X_val, np.ones((X_val.shape[0], 1))])\n",
    "    X_test = np.hstack([X_test, np.ones((X_test.shape[0], 1))])\n",
    "    X_dev = np.hstack([X_dev, np.ones((X_dev.shape[0], 1))])\n",
    "    \n",
    "    return X_train, y_train, X_val, y_val, X_test, y_test, X_dev, y_dev\n",
    "\n",
    "\n",
    "# Cleaning up variables to prevent loading data multiple times (which may cause memory issue)\n",
    "try:\n",
    "   del X_train, y_train\n",
    "   del X_test, y_test\n",
    "   print('Clear previously loaded data.')\n",
    "except:\n",
    "   pass\n",
    "\n",
    "# Invoke the above function to get our data.\n",
    "X_train, y_train, X_val, y_val, X_test, y_test, X_dev, y_dev = get_CIFAR10_data()\n",
    "print('Train data shape: ', X_train.shape)\n",
    "print('Train labels shape: ', y_train.shape)\n",
    "print('Validation data shape: ', X_val.shape)\n",
    "print('Validation labels shape: ', y_val.shape)\n",
    "print('Test data shape: ', X_test.shape)\n",
    "print('Test labels shape: ', y_test.shape)\n",
    "print('dev data shape: ', X_dev.shape)\n",
    "print('dev labels shape: ', y_dev.shape)"
   ]
  },
  {
   "cell_type": "markdown",
   "metadata": {},
   "source": [
    "## Softmax Classifier\n",
    "\n",
    "Your code for this section will all be written inside **cs231n/classifiers/softmax.py**. \n"
   ]
  },
  {
   "cell_type": "code",
   "execution_count": 5,
   "metadata": {},
   "outputs": [
    {
     "name": "stdout",
     "output_type": "stream",
     "text": [
      "loss: 2.315484\n",
      "sanity check: 2.302585\n"
     ]
    }
   ],
   "source": [
    "# First implement the naive softmax loss function with nested loops.\n",
    "# Open the file cs231n/classifiers/softmax.py and implement the\n",
    "# softmax_loss_naive function.\n",
    "\n",
    "from cs231n.classifiers.softmax import softmax_loss_naive\n",
    "import time\n",
    "\n",
    "# Generate a random softmax weight matrix and use it to compute the loss.\n",
    "W = np.random.randn(3073, 10) * 0.0001\n",
    "loss, grad = softmax_loss_naive(W, X_dev, y_dev, 0.0)\n",
    "\n",
    "# As a rough sanity check, our loss should be something close to -log(0.1).\n",
    "print('loss: %f' % loss)\n",
    "print('sanity check: %f' % (-np.log(0.1)))"
   ]
  },
  {
   "cell_type": "markdown",
   "metadata": {},
   "source": [
    "## Inline Question 1:\n",
    "Why do we expect our loss to be close to -log(0.1)? Explain briefly.**\n",
    "\n",
    "**Your answer:** Initially we use random weights, so the score `s` for each class is almost the same as each other. Then the loss is `-log(s/10s) = -log(0.1)`.\n"
   ]
  },
  {
   "cell_type": "code",
   "execution_count": 6,
   "metadata": {},
   "outputs": [
    {
     "name": "stdout",
     "output_type": "stream",
     "text": [
      "numerical: 1.294816 analytic: 1.294816, relative error: 1.030955e-08\n",
      "numerical: -0.491521 analytic: -0.491521, relative error: 1.611256e-08\n",
      "numerical: 1.322996 analytic: 1.322996, relative error: 1.766178e-08\n",
      "numerical: 4.169894 analytic: 4.169894, relative error: 5.637569e-10\n",
      "numerical: -1.301782 analytic: -1.301782, relative error: 1.027768e-08\n",
      "numerical: 1.953111 analytic: 1.953110, relative error: 1.013778e-08\n",
      "numerical: -0.963512 analytic: -0.963512, relative error: 4.485681e-08\n",
      "numerical: 0.308058 analytic: 0.308058, relative error: 9.960222e-08\n",
      "numerical: -0.208612 analytic: -0.208612, relative error: 4.004751e-08\n",
      "numerical: -1.707005 analytic: -1.707005, relative error: 3.239530e-08\n",
      "numerical: -0.528126 analytic: -0.528126, relative error: 5.665719e-08\n",
      "numerical: 2.788155 analytic: 2.788155, relative error: 2.536317e-08\n",
      "numerical: -2.810634 analytic: -2.810634, relative error: 1.904110e-08\n",
      "numerical: 1.796037 analytic: 1.796037, relative error: 2.123142e-08\n",
      "numerical: -1.805161 analytic: -1.805161, relative error: 7.393396e-09\n",
      "numerical: 2.706357 analytic: 2.706357, relative error: 1.581058e-08\n",
      "numerical: 1.737937 analytic: 1.737937, relative error: 1.768459e-10\n",
      "numerical: 1.337338 analytic: 1.337338, relative error: 2.688259e-08\n",
      "numerical: -1.339402 analytic: -1.339402, relative error: 4.199677e-08\n",
      "numerical: 2.759990 analytic: 2.759990, relative error: 4.049452e-09\n"
     ]
    }
   ],
   "source": [
    "# Complete the implementation of softmax_loss_naive and implement a (naive)\n",
    "# version of the gradient that uses nested loops.\n",
    "loss, grad = softmax_loss_naive(W, X_dev, y_dev, 0.0)\n",
    "\n",
    "# As we did for the SVM, use numeric gradient checking as a debugging tool.\n",
    "# The numeric gradient should be close to the analytic gradient.\n",
    "from cs231n.gradient_check import grad_check_sparse\n",
    "f = lambda w: softmax_loss_naive(w, X_dev, y_dev, 0.0)[0]\n",
    "grad_numerical = grad_check_sparse(f, W, grad, 10)\n",
    "\n",
    "# similar to SVM case, do another gradient check with regularization\n",
    "loss, grad = softmax_loss_naive(W, X_dev, y_dev, 5e1)\n",
    "f = lambda w: softmax_loss_naive(w, X_dev, y_dev, 5e1)[0]\n",
    "grad_numerical = grad_check_sparse(f, W, grad, 10)"
   ]
  },
  {
   "cell_type": "code",
   "execution_count": 7,
   "metadata": {},
   "outputs": [
    {
     "name": "stdout",
     "output_type": "stream",
     "text": [
      "naive loss: 2.315484e+00 computed in 0.131182s\n",
      "vectorized loss: 2.315484e+00 computed in 0.007691s\n",
      "Loss difference: 0.000000\n",
      "Gradient difference: 0.000000\n"
     ]
    }
   ],
   "source": [
    "# Now that we have a naive implementation of the softmax loss function and its gradient,\n",
    "# implement a vectorized version in softmax_loss_vectorized.\n",
    "# The two versions should compute the same results, but the vectorized version should be\n",
    "# much faster.\n",
    "tic = time.time()\n",
    "loss_naive, grad_naive = softmax_loss_naive(W, X_dev, y_dev, 0.000005)\n",
    "toc = time.time()\n",
    "print('naive loss: %e computed in %fs' % (loss_naive, toc - tic))\n",
    "\n",
    "from cs231n.classifiers.softmax import softmax_loss_vectorized\n",
    "tic = time.time()\n",
    "loss_vectorized, grad_vectorized = softmax_loss_vectorized(W, X_dev, y_dev, 0.000005)\n",
    "toc = time.time()\n",
    "print('vectorized loss: %e computed in %fs' % (loss_vectorized, toc - tic))\n",
    "\n",
    "# As we did for the SVM, we use the Frobenius norm to compare the two versions\n",
    "# of the gradient.\n",
    "grad_difference = np.linalg.norm(grad_naive - grad_vectorized, ord='fro')\n",
    "print('Loss difference: %f' % np.abs(loss_naive - loss_vectorized))\n",
    "print('Gradient difference: %f' % grad_difference)"
   ]
  },
  {
   "cell_type": "code",
   "execution_count": 9,
   "metadata": {},
   "outputs": [
    {
     "name": "stdout",
     "output_type": "stream",
     "text": [
      "rate:1.000000e-07, reg: 2.000000e+04, val: 0.288000\n",
      "rate:1.000000e-07, reg: 5.000000e+04, val: 0.322000\n",
      "rate:3.000000e-07, reg: 2.000000e+04, val: 0.339000\n",
      "rate:5.000000e-07, reg: 2.000000e+04, val: 0.341000\n",
      "rate:1.000000e-06, reg: 2.000000e+04, val: 0.343000\n",
      "lr 1.000000e-07 reg 2.000000e+04 train accuracy: 0.299163 val accuracy: 0.288000\n",
      "lr 1.000000e-07 reg 5.000000e+04 train accuracy: 0.305980 val accuracy: 0.322000\n",
      "lr 1.000000e-07 reg 8.000000e+04 train accuracy: 0.293959 val accuracy: 0.305000\n",
      "lr 1.000000e-07 reg 1.000000e+05 train accuracy: 0.283367 val accuracy: 0.301000\n",
      "lr 1.000000e-07 reg 3.000000e+05 train accuracy: 0.261918 val accuracy: 0.280000\n",
      "lr 1.000000e-07 reg 5.000000e+05 train accuracy: 0.262878 val accuracy: 0.279000\n",
      "lr 1.000000e-07 reg 1.000000e+06 train accuracy: 0.245857 val accuracy: 0.250000\n",
      "lr 3.000000e-07 reg 2.000000e+04 train accuracy: 0.331898 val accuracy: 0.339000\n",
      "lr 3.000000e-07 reg 5.000000e+04 train accuracy: 0.310408 val accuracy: 0.326000\n",
      "lr 3.000000e-07 reg 8.000000e+04 train accuracy: 0.290408 val accuracy: 0.305000\n",
      "lr 3.000000e-07 reg 1.000000e+05 train accuracy: 0.278041 val accuracy: 0.286000\n",
      "lr 3.000000e-07 reg 3.000000e+05 train accuracy: 0.264306 val accuracy: 0.280000\n",
      "lr 3.000000e-07 reg 5.000000e+05 train accuracy: 0.237796 val accuracy: 0.243000\n",
      "lr 3.000000e-07 reg 1.000000e+06 train accuracy: 0.269306 val accuracy: 0.268000\n",
      "lr 5.000000e-07 reg 2.000000e+04 train accuracy: 0.327980 val accuracy: 0.341000\n",
      "lr 5.000000e-07 reg 5.000000e+04 train accuracy: 0.297286 val accuracy: 0.306000\n",
      "lr 5.000000e-07 reg 8.000000e+04 train accuracy: 0.294306 val accuracy: 0.283000\n",
      "lr 5.000000e-07 reg 1.000000e+05 train accuracy: 0.266796 val accuracy: 0.285000\n",
      "lr 5.000000e-07 reg 3.000000e+05 train accuracy: 0.254102 val accuracy: 0.259000\n",
      "lr 5.000000e-07 reg 5.000000e+05 train accuracy: 0.229265 val accuracy: 0.241000\n",
      "lr 5.000000e-07 reg 1.000000e+06 train accuracy: 0.226306 val accuracy: 0.232000\n",
      "lr 8.000000e-07 reg 2.000000e+04 train accuracy: 0.337388 val accuracy: 0.339000\n",
      "lr 8.000000e-07 reg 5.000000e+04 train accuracy: 0.300735 val accuracy: 0.315000\n",
      "lr 8.000000e-07 reg 8.000000e+04 train accuracy: 0.287612 val accuracy: 0.301000\n",
      "lr 8.000000e-07 reg 1.000000e+05 train accuracy: 0.282184 val accuracy: 0.289000\n",
      "lr 8.000000e-07 reg 3.000000e+05 train accuracy: 0.228837 val accuracy: 0.232000\n",
      "lr 8.000000e-07 reg 5.000000e+05 train accuracy: 0.225429 val accuracy: 0.235000\n",
      "lr 8.000000e-07 reg 1.000000e+06 train accuracy: 0.173163 val accuracy: 0.177000\n",
      "lr 1.000000e-06 reg 2.000000e+04 train accuracy: 0.329510 val accuracy: 0.343000\n",
      "lr 1.000000e-06 reg 5.000000e+04 train accuracy: 0.301286 val accuracy: 0.316000\n",
      "lr 1.000000e-06 reg 8.000000e+04 train accuracy: 0.291429 val accuracy: 0.303000\n",
      "lr 1.000000e-06 reg 1.000000e+05 train accuracy: 0.285490 val accuracy: 0.290000\n",
      "lr 1.000000e-06 reg 3.000000e+05 train accuracy: 0.227857 val accuracy: 0.246000\n",
      "lr 1.000000e-06 reg 5.000000e+05 train accuracy: 0.214367 val accuracy: 0.211000\n",
      "lr 1.000000e-06 reg 1.000000e+06 train accuracy: 0.098694 val accuracy: 0.086000\n",
      "best validation accuracy achieved during cross-validation: 0.343000\n"
     ]
    }
   ],
   "source": [
    "# Use the validation set to tune hyperparameters (regularization strength and\n",
    "# learning rate). You should experiment with different ranges for the learning\n",
    "# rates and regularization strengths; if you are careful you should be able to\n",
    "# get a classification accuracy of over 0.35 on the validation set.\n",
    "from cs231n.classifiers import Softmax\n",
    "results = {}\n",
    "best_val = -1\n",
    "best_softmax = None\n",
    "learning_rates = [1e-7, 3e-7, 5e-7, 8e-7, 1e-6, 2e-6]\n",
    "regularization_strengths = [1e4, 1.5e4, 2e4, 5e4, 1e5]\n",
    "\n",
    "################################################################################\n",
    "# TODO:                                                                        #\n",
    "# Use the validation set to set the learning rate and regularization strength. #\n",
    "# This should be identical to the validation that you did for the SVM; save    #\n",
    "# the best trained softmax classifer in best_softmax.                          #\n",
    "################################################################################\n",
    "for rate in learning_rates:\n",
    "    for reg in regularization_strengths:\n",
    "        softmax = Softmax()\n",
    "        softmax.train(X_train, y_train, rate, reg, num_iters=500, batch_size=200)\n",
    "        y_train_pred = softmax.predict(X_train)\n",
    "        y_val_pred = softmax.predict(X_val)\n",
    "        training_accuracy = np.mean(y_train == y_train_pred)\n",
    "        validation_accuracy = np.mean(y_val == y_val_pred)\n",
    "        results[(rate, reg)] = (training_accuracy, validation_accuracy)\n",
    "        if validation_accuracy > best_val :\n",
    "            best_val = validation_accuracy\n",
    "            best_softmax = softmax\n",
    "            print('rate:%e, reg: %e, val: %f' % (rate, reg, best_val))\n",
    "\n",
    "\n",
    "\n",
    "################################################################################\n",
    "#                              END OF YOUR CODE                                #\n",
    "################################################################################\n",
    "    \n",
    "# Print out results.\n",
    "for lr, reg in sorted(results):\n",
    "    train_accuracy, val_accuracy = results[(lr, reg)]\n",
    "    print('lr %e reg %e train accuracy: %f val accuracy: %f' % (\n",
    "                lr, reg, train_accuracy, val_accuracy))\n",
    "    \n",
    "print('best validation accuracy achieved during cross-validation: %f' % best_val)"
   ]
  },
  {
   "cell_type": "code",
   "execution_count": null,
   "metadata": {},
   "outputs": [],
   "source": [
    "# evaluate on test set\n",
    "# Evaluate the best softmax on test set\n",
    "y_test_pred = best_softmax.predict(X_test)\n",
    "test_accuracy = np.mean(y_test == y_test_pred)\n",
    "print('softmax on raw pixels final test set accuracy: %f' % (test_accuracy, ))"
   ]
  },
  {
   "cell_type": "markdown",
   "metadata": {},
   "source": [
    "**Inline Question** - *True or False*\n",
    "\n",
    "It's possible to add a new datapoint to a training set that would leave the SVM loss unchanged, but this is not the case with the Softmax classifier loss.\n",
    "\n",
    "*Your answer*: TRUE.\n",
    "\n",
    "*Your explanation*: SVM is linear classifier and adding a point whose score is not inside the delta range does not influence the SVM loss. However, adding any point will change the sum of exp(scores) in that class, and then change the softmax loss. "
   ]
  },
  {
   "cell_type": "code",
   "execution_count": null,
   "metadata": {},
   "outputs": [],
   "source": [
    "# Visualize the learned weights for each class\n",
    "w = best_softmax.W[:-1,:] # strip out the bias\n",
    "w = w.reshape(32, 32, 3, 10)\n",
    "\n",
    "w_min, w_max = np.min(w), np.max(w)\n",
    "\n",
    "classes = ['plane', 'car', 'bird', 'cat', 'deer', 'dog', 'frog', 'horse', 'ship', 'truck']\n",
    "for i in range(10):\n",
    "    plt.subplot(2, 5, i + 1)\n",
    "    \n",
    "    # Rescale the weights to be between 0 and 255\n",
    "    wimg = 255.0 * (w[:, :, :, i].squeeze() - w_min) / (w_max - w_min)\n",
    "    plt.imshow(wimg.astype('uint8'))\n",
    "    plt.axis('off')\n",
    "    plt.title(classes[i])"
   ]
  },
  {
   "cell_type": "code",
   "execution_count": null,
   "metadata": {},
   "outputs": [],
   "source": []
  }
 ],
 "metadata": {
  "kernelspec": {
   "display_name": "Python 3",
   "language": "python",
   "name": "python3"
  },
  "language_info": {
   "codemirror_mode": {
    "name": "ipython",
    "version": 3
   },
   "file_extension": ".py",
   "mimetype": "text/x-python",
   "name": "python",
   "nbconvert_exporter": "python",
   "pygments_lexer": "ipython3",
   "version": "3.7.1"
  }
 },
 "nbformat": 4,
 "nbformat_minor": 1
}
