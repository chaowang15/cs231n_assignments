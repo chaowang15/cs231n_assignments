{
 "cells": [
  {
   "cell_type": "code",
   "execution_count": 8,
   "metadata": {},
   "outputs": [
    {
     "name": "stdout",
     "output_type": "stream",
     "text": [
      "X_train = \n",
      " [[4.21502382 0.51808873 3.87468496]\n",
      " [4.42983013 1.40516122 2.89885673]\n",
      " [0.43709389 2.93394241 4.02250336]\n",
      " [1.88628857 2.12545072 0.88299007]\n",
      " [0.91079064 0.25342262 3.56424074]\n",
      " [4.10188407 3.05313869 2.52729993]\n",
      " [4.88528487 4.32431165 3.44769623]\n",
      " [0.43573098 0.702361   4.50274617]\n",
      " [4.56830674 3.25390586 2.42262195]\n",
      " [0.90710628 2.34501333 0.48898864]]\n",
      "Y_train = \n",
      " [3 2 2 4 2 1 0 3 3 1]\n",
      "X_test = \n",
      " [[4.09568589 1.75557567 4.14282303]\n",
      " [4.52893816 3.14128056 0.74958439]\n",
      " [3.31701966 1.70990567 4.89409424]]\n",
      "Y_test = \n",
      " [4 4 2]\n"
     ]
    }
   ],
   "source": [
    "# Testing L2 distance between points in training set and testing set\n",
    "# Initialization \n",
    "import numpy as np\n",
    "import random\n",
    "num_train = 10\n",
    "num_test = 3\n",
    "num_dim = 3\n",
    "num_type = 5\n",
    "# np.random.seed(1234) # use pseudo random with a fixed seed\n",
    "X_train = np.random.uniform(low=0, high=5, size=(num_train, num_dim)) # each row is one point in training set\n",
    "Y_train = np.random.randint(num_type, size=(num_train,))\n",
    "X_test = np.random.uniform(low=0, high=5, size=(num_test,num_dim)) # each row is one point in testing set\n",
    "Y_test = np.random.randint(num_type, size=(num_test,))\n",
    "\n",
    "# for testing\n",
    "print(\"X_train = \\n\", X_train)\n",
    "print(\"Y_train = \\n\", Y_train)\n",
    "print(\"X_test = \\n\", X_test)\n",
    "print(\"Y_test = \\n\", Y_test)\n",
    "# print(X_train.shape[0])\n",
    "# print(X_test.shape[0])\n",
    "# print(np.sum(np.square(X_train[0,:] - X_test[0,:])))\n",
    "# print(np.sum(np.square(X_train[1,:] - X_test[1,:])))\n",
    "\n"
   ]
  },
  {
   "cell_type": "code",
   "execution_count": 9,
   "metadata": {},
   "outputs": [
    {
     "name": "stdout",
     "output_type": "stream",
     "text": [
      "[[17.76642578  0.26841593 15.01318358]\n",
      " [19.62339497  1.97447807  8.40337034]\n",
      " [ 0.19105107  8.60801806 16.18053327]\n",
      " [ 3.55808459  4.51754076  0.77967146]\n",
      " [ 0.8295396   0.06422302 12.70381207]\n",
      " [16.82545296  9.32165584  6.38724493]\n",
      " [23.86600825 18.69967128 11.88660929]\n",
      " [ 0.18986148  0.49331098 20.27472307]\n",
      " [20.86942647 10.58790334  5.8690971 ]\n",
      " [ 0.8228418   5.4990875   0.23910989]]\n",
      "[[ 4.21502382  0.51808873  3.87468496]\n",
      " [16.71688779 14.9919757  12.8499157 ]\n",
      " [ 0.43709389  2.93394241  4.02250336]\n",
      " [ 1.88628857  2.12545072  0.88299007]\n",
      " [ 0.91079064  0.25342262  3.56424074]\n",
      " [ 4.10188407  3.05313869  2.52729993]\n",
      " [ 4.88528487  4.32431165  3.44769623]\n",
      " [ 0.43573098  0.702361    4.50274617]\n",
      " [ 4.56830674  3.25390586  2.42262195]\n",
      " [ 0.90710628  2.34501333  0.48898864]]\n"
     ]
    }
   ],
   "source": [
    "## Test fundamental matrix operations\n",
    "print(X_train * X_train) # matrix multiplied by itself is actually the square of each value \n",
    "# X_train[0,:] += X_train[1,:] # add a row by some other row\n",
    "\n",
    "X_train[1,:] += X_test[:,0] * 3\n",
    "print(X_train)\n"
   ]
  },
  {
   "cell_type": "code",
   "execution_count": null,
   "metadata": {},
   "outputs": [],
   "source": [
    "## Testing two-loop L2 distance\n",
    "dist = np.zeros((num_test, num_train))\n",
    "for i in range(num_test):\n",
    "    for j in range(num_train):\n",
    "        dist[i,j] = np.sqrt(np.sum(np.square(X_test[i,:] - X_train[j,:])))\n",
    "print(dist)"
   ]
  },
  {
   "cell_type": "code",
   "execution_count": null,
   "metadata": {},
   "outputs": [],
   "source": [
    "## Testing one-loop L2 distance\n",
    "for i in range(num_test):\n",
    "    dist[i,:] = np.sqrt(np.sum(np.square(X_train - X_test[i,:]), axis=1))\n",
    "print(dist)"
   ]
  },
  {
   "cell_type": "code",
   "execution_count": null,
   "metadata": {},
   "outputs": [],
   "source": [
    "## Testing no-loop L2 distance: using equation (a-b)^2 = a^2 + b^2 - 2ab\n",
    "test_sum = np.sum(np.square(X_test), axis=1) # sum of squares\n",
    "test_sum = np.reshape(test_sum, (num_test, 1)) # reshape the row vector as a one-column matrix\n",
    "test_sqmat = np.tile(test_sum, (1, num_train)) # repeat column for `num_train` times to create matrix [a^2]\n",
    "\n",
    "train_sum = np.sum(np.square(X_train), axis=1) # similar for training set\n",
    "train_sum = np.reshape(train_sum, (1, num_train))\n",
    "train_sqmat = np.tile(train_sum, (num_test, 1)) # create matrix [b^2]\n",
    "\n",
    "dist = np.sqrt(test_sqmat + train_sqmat - 2 * X_test.dot(X_train.transpose()))\n",
    "\n",
    "print(dist)\n",
    "\n",
    "# print( - 2 * X_test * X_train.transpose())\n",
    "\n",
    "# print(stest)\n",
    "# stest = np.repeat(stest, 2)\n",
    "\n",
    "# print(stest)\n",
    "# print(stest.transpose())\n"
   ]
  },
  {
   "cell_type": "code",
   "execution_count": null,
   "metadata": {},
   "outputs": [],
   "source": [
    "# convert a range() to a vector\n",
    "print(list(range(num_train)))"
   ]
  },
  {
   "cell_type": "code",
   "execution_count": null,
   "metadata": {},
   "outputs": [],
   "source": [
    "## Count occurance number of each value in a list/array.\n",
    "a = np.array([1,2,3,2,10])\n",
    "\n",
    "# Method 1: count occurances directly.\n",
    "# unique are values, counts are occurances/frequences\n",
    "(unique,counts) = np.unique(a, return_counts=True)\n",
    "print(unique)\n",
    "print(counts)\n",
    "\n",
    "# Method 2: count number of values in each bin with size 1.\n",
    "# Bins start from 0 and ends in maximum value + 1.\n",
    "# For instance, all 3s are in the 3th bin.\n",
    "# Cleary, np.bincount can only be used to count occurances of POSITIVE values.\n",
    "counts = np.bincount(a)\n",
    "print(counts)\n",
    "most_frequent = np.argmax(counts) # index of most frequent value is also the value itself \n",
    "print(most_frequent)\n",
    "\n",
    "# Test in kNN\n",
    "k = 4\n",
    "for i in range(num_test):\n",
    "    closest_y = Y_train[np.argsort(dist[i,:])[0:k]] # labels of the closest k neighbors\n",
    "    print(closest_y)\n",
    "    counts = np.bincount(closest_y) # count number of occurance in bins (smallest to largest), each with size 1\n",
    "    print(np.argmax(counts)) # return max occurance (if multiple max, then return the first one)\n",
    "    "
   ]
  },
  {
   "cell_type": "code",
   "execution_count": null,
   "metadata": {},
   "outputs": [],
   "source": [
    "## Array split\n",
    "num_folds = 5\n",
    "X_train_folds = np.array_split(X_train, num_folds) # split array by rows\n",
    "Y_train_folds = np.array_split(Y_train, num_folds) \n",
    "\n",
    "print(X_train_folds)\n",
    "print(Y_train_folds)\n",
    "    "
   ]
  },
  {
   "cell_type": "code",
   "execution_count": null,
   "metadata": {},
   "outputs": [],
   "source": [
    "## Delete some rows/columns in an array\n",
    "num_folds = 5\n",
    "fold_len = int(X_train.shape[0] / num_folds) # convert to int\n",
    "for i in range(num_folds):\n",
    "    # `np.s_[a:b]` sets indices from a to b in `np.delete()`. It equals to `slice(a, b)`\n",
    "    # Note that a simple `[a:b]` doesn't work here.\n",
    "    X_train_new = np.delete(X_train, np.s_[(i*fold_len):((i+1)*fold_len)], axis=0)\n",
    "    Y_train_new = np.delete(Y_train, np.s_[(i*fold_len):((i+1)*fold_len)], axis=0)\n",
    "#     print(X_train_new)\n",
    "#     print(X_train_folds[i])\n",
    "#     print(Y_train_new)\n",
    "#     print(Y_train_folds[i])\n",
    "#     print(\"-----------\")\n"
   ]
  },
  {
   "cell_type": "code",
   "execution_count": null,
   "metadata": {},
   "outputs": [],
   "source": [
    "## Test dictionary\n",
    "k_choices = [1, 3, 5, 8, 10, 12, 15, 20, 50, 100]\n",
    "k_to_accuracies = {}\n",
    "for k in k_choices:\n",
    "    accuracy = []\n",
    "    for i in range(num_folds):\n",
    "        accuracy.append(i) # add integer into a list\n",
    "    k_to_accuracies[k] = accuracy # mapping int to a list\n",
    "    print(k_to_accuracies[k])\n",
    "    \n"
   ]
  },
  {
   "cell_type": "code",
   "execution_count": null,
   "metadata": {},
   "outputs": [],
   "source": []
  }
 ],
 "metadata": {
  "kernelspec": {
   "display_name": "Python 3",
   "language": "python",
   "name": "python3"
  },
  "language_info": {
   "codemirror_mode": {
    "name": "ipython",
    "version": 3
   },
   "file_extension": ".py",
   "mimetype": "text/x-python",
   "name": "python",
   "nbconvert_exporter": "python",
   "pygments_lexer": "ipython3",
   "version": "3.7.1"
  }
 },
 "nbformat": 4,
 "nbformat_minor": 2
}
